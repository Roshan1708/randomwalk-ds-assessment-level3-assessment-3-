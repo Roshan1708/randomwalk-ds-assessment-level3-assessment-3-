{
  "nbformat": 4,
  "nbformat_minor": 0,
  "metadata": {
    "colab": {
      "provenance": []
    },
    "kernelspec": {
      "name": "python3",
      "display_name": "Python 3"
    },
    "language_info": {
      "name": "python"
    }
  },
  "cells": [
    {
      "cell_type": "markdown",
      "source": [
        "Importing the necessary libraries"
      ],
      "metadata": {
        "id": "kvYRZA1tgg48"
      }
    },
    {
      "cell_type": "code",
      "execution_count": 1,
      "metadata": {
        "id": "i22aF2atYbWV"
      },
      "outputs": [],
      "source": [
        "import numpy as np\n",
        "import pandas as pd\n",
        "import matplotlib.pyplot as plt\n",
        "%matplotlib inline\n",
        "import seaborn as sns\n",
        "import sklearn"
      ]
    },
    {
      "cell_type": "markdown",
      "source": [
        "Importing the datasets"
      ],
      "metadata": {
        "id": "Xxnn1v6wgpLW"
      }
    },
    {
      "cell_type": "code",
      "source": [
        "df=pd.read_csv('/content/books.csv')"
      ],
      "metadata": {
        "id": "RlskLXPUbgQU"
      },
      "execution_count": 2,
      "outputs": []
    },
    {
      "cell_type": "code",
      "source": [
        "df_1=pd.read_csv('/content/book_tags.csv')"
      ],
      "metadata": {
        "id": "bXUfA3KMbnEJ"
      },
      "execution_count": 3,
      "outputs": []
    },
    {
      "cell_type": "code",
      "source": [
        "df_2=pd.read_csv('/content/ratings.csv')"
      ],
      "metadata": {
        "id": "PQ7qw3kFbrWL"
      },
      "execution_count": 4,
      "outputs": []
    },
    {
      "cell_type": "code",
      "source": [
        "df.info()"
      ],
      "metadata": {
        "colab": {
          "base_uri": "https://localhost:8080/"
        },
        "id": "O6etB7Hjdz0O",
        "outputId": "f94aad96-c43d-49b8-c94b-39848f6b132b"
      },
      "execution_count": 15,
      "outputs": [
        {
          "output_type": "stream",
          "name": "stdout",
          "text": [
            "<class 'pandas.core.frame.DataFrame'>\n",
            "RangeIndex: 399 entries, 0 to 398\n",
            "Data columns (total 24 columns):\n",
            " #   Column                     Non-Null Count  Dtype  \n",
            "---  ------                     --------------  -----  \n",
            " 0   book_id                    399 non-null    int64  \n",
            " 1   goodreads_book_id          399 non-null    int64  \n",
            " 2   best_book_id               399 non-null    int64  \n",
            " 3   work_id                    399 non-null    int64  \n",
            " 4   books_count                399 non-null    int64  \n",
            " 5   isbn                       388 non-null    object \n",
            " 6   isbn13                     389 non-null    float64\n",
            " 7   authors                    399 non-null    object \n",
            " 8   original_publication_year  399 non-null    float64\n",
            " 9   original_title             363 non-null    object \n",
            " 10  title                      399 non-null    object \n",
            " 11  language_code              356 non-null    object \n",
            " 12  average_rating             399 non-null    float64\n",
            " 13  ratings_count              399 non-null    int64  \n",
            " 14  work_ratings_count         399 non-null    int64  \n",
            " 15  work_text_reviews_count    399 non-null    int64  \n",
            " 16  ratings_1                  399 non-null    int64  \n",
            " 17  ratings_2                  399 non-null    int64  \n",
            " 18  ratings_3                  399 non-null    int64  \n",
            " 19  ratings_4                  399 non-null    int64  \n",
            " 20  ratings_5                  399 non-null    int64  \n",
            " 21  image_url                  399 non-null    object \n",
            " 22  small_image_url            399 non-null    object \n",
            " 23  NonEnglish                 399 non-null    int64  \n",
            "dtypes: float64(3), int64(14), object(7)\n",
            "memory usage: 74.9+ KB\n"
          ]
        }
      ]
    },
    {
      "cell_type": "code",
      "source": [
        "df_1.info()"
      ],
      "metadata": {
        "colab": {
          "base_uri": "https://localhost:8080/"
        },
        "id": "lTGO1_avd1vD",
        "outputId": "f41d1d61-6992-457e-920d-05b877f8710c"
      },
      "execution_count": 16,
      "outputs": [
        {
          "output_type": "stream",
          "name": "stdout",
          "text": [
            "<class 'pandas.core.frame.DataFrame'>\n",
            "RangeIndex: 40200 entries, 0 to 40199\n",
            "Data columns (total 3 columns):\n",
            " #   Column             Non-Null Count  Dtype\n",
            "---  ------             --------------  -----\n",
            " 0   goodreads_book_id  40200 non-null  int64\n",
            " 1   tag_id             40200 non-null  int64\n",
            " 2   count              40200 non-null  int64\n",
            "dtypes: int64(3)\n",
            "memory usage: 942.3 KB\n"
          ]
        }
      ]
    },
    {
      "cell_type": "code",
      "source": [
        "df_2.info()"
      ],
      "metadata": {
        "colab": {
          "base_uri": "https://localhost:8080/"
        },
        "id": "Izk4N_Ebd38c",
        "outputId": "770284b4-b765-4add-b14d-71940acb4b0c"
      },
      "execution_count": 17,
      "outputs": [
        {
          "output_type": "stream",
          "name": "stdout",
          "text": [
            "<class 'pandas.core.frame.DataFrame'>\n",
            "RangeIndex: 233383 entries, 0 to 233382\n",
            "Data columns (total 3 columns):\n",
            " #   Column   Non-Null Count   Dtype\n",
            "---  ------   --------------   -----\n",
            " 0   user_id  233383 non-null  int64\n",
            " 1   book_id  233383 non-null  int64\n",
            " 2   rating   233383 non-null  int64\n",
            "dtypes: int64(3)\n",
            "memory usage: 5.3 MB\n"
          ]
        }
      ]
    },
    {
      "cell_type": "markdown",
      "source": [
        "1.How many books do not have an original title [books.csv]?"
      ],
      "metadata": {
        "id": "VM27qLuYb3Wm"
      }
    },
    {
      "cell_type": "code",
      "source": [
        "no_of_books_without_an_original_title=df['original_title'].isnull().sum()\n",
        "print(\"Number of books without an original title is:\",no_of_books_without_an_original_title)"
      ],
      "metadata": {
        "colab": {
          "base_uri": "https://localhost:8080/"
        },
        "id": "gVeyTAveb5No",
        "outputId": "523bc444-35ea-47c2-d288-1eb627f7d921"
      },
      "execution_count": 6,
      "outputs": [
        {
          "output_type": "stream",
          "name": "stdout",
          "text": [
            "Number of books without an original title is: 36\n"
          ]
        }
      ]
    },
    {
      "cell_type": "markdown",
      "source": [
        "2.How many unique books are present in the dataset ? Evaluate based on the 'book_id' after removing records containing null values for original_title column in [books.csv] and corresponding records in [book_tags.csv] and [ratings.csv]"
      ],
      "metadata": {
        "id": "or6weptYcGsJ"
      }
    },
    {
      "cell_type": "code",
      "source": [
        "df_cleaned = df.dropna(subset=['original_title'])\n"
      ],
      "metadata": {
        "id": "c5r1cvKwcMeJ"
      },
      "execution_count": 11,
      "outputs": []
    },
    {
      "cell_type": "code",
      "source": [
        "df_1_cleaned = df_1[df_1['goodreads_book_id'].isin(df_cleaned['book_id'])]\n",
        "df_2_cleaned = df_2[df_2['book_id'].isin(df_cleaned['book_id'])]"
      ],
      "metadata": {
        "id": "lZwl5hK3dQqz"
      },
      "execution_count": 12,
      "outputs": []
    },
    {
      "cell_type": "code",
      "source": [
        "unique_books_count = df_cleaned['book_id'].nunique()\n",
        "print(\"Number of unique books present in the dataset after cleaning is :\", unique_books_count)"
      ],
      "metadata": {
        "colab": {
          "base_uri": "https://localhost:8080/"
        },
        "id": "4BvatbXvdeW-",
        "outputId": "675ef5c7-8d78-45e3-e558-8927da50c79b"
      },
      "execution_count": 24,
      "outputs": [
        {
          "output_type": "stream",
          "name": "stdout",
          "text": [
            "Number of unique books present in the dataset after cleaning is : 363\n"
          ]
        }
      ]
    },
    {
      "cell_type": "markdown",
      "source": [
        "3.How many unique users are present in the dataset [ratings.csv] ?"
      ],
      "metadata": {
        "id": "xOLfIoWCeEGH"
      }
    },
    {
      "cell_type": "code",
      "source": [
        "unique_user_count = df_2['user_id'].nunique()\n",
        "print(\"Number of unique users in the 'ratings.csv' dataset is:\", unique_user_count)"
      ],
      "metadata": {
        "colab": {
          "base_uri": "https://localhost:8080/"
        },
        "id": "F6WHUcXBeH5X",
        "outputId": "57065253-7a72-45f1-eec6-dc2d425c8bf9"
      },
      "execution_count": 26,
      "outputs": [
        {
          "output_type": "stream",
          "name": "stdout",
          "text": [
            "Number of unique users in the 'ratings.csv' dataset is: 40836\n"
          ]
        }
      ]
    },
    {
      "cell_type": "markdown",
      "source": [
        "4.How many unique tags are there in the dataset [book_tags.csv] ?"
      ],
      "metadata": {
        "id": "SsA68K3meZzt"
      }
    },
    {
      "cell_type": "code",
      "source": [
        "unique_tags_count=df_1['tag_id'].nunique()\n",
        "print(\"Number of unique tags in the 'book_tags' dataset is:\", unique_tags_count)"
      ],
      "metadata": {
        "colab": {
          "base_uri": "https://localhost:8080/"
        },
        "id": "2txbKqnUef_3",
        "outputId": "eb4c22a7-c498-4192-93fa-517b1d11fe97"
      },
      "execution_count": 27,
      "outputs": [
        {
          "output_type": "stream",
          "name": "stdout",
          "text": [
            "Number of unique tags in the 'book_tags' dataset is: 3651\n"
          ]
        }
      ]
    },
    {
      "cell_type": "markdown",
      "source": [
        "5.Which tag_id is the most frequently used ie. mapped with the highest number of books [book_tags.csv] ? (In case of more than one tag, mention the tag id with the least numerical value)’."
      ],
      "metadata": {
        "id": "ft1Z5x2ce5L4"
      }
    },
    {
      "cell_type": "code",
      "source": [
        "frequent_used_tag_id = df_1['tag_id'].value_counts().idxmax()\n",
        "print(\"Tag_id most frequently used is:\", frequent_used_tag_id)"
      ],
      "metadata": {
        "colab": {
          "base_uri": "https://localhost:8080/"
        },
        "id": "JxCCFcjMe60H",
        "outputId": "e26d53a0-dc10-4401-eb66-a819d3f31d89"
      },
      "execution_count": 28,
      "outputs": [
        {
          "output_type": "stream",
          "name": "stdout",
          "text": [
            "Tag_id most frequently used is: 4600\n"
          ]
        }
      ]
    },
    {
      "cell_type": "markdown",
      "source": [
        "6.Which book (title) has the most number of counts of tags given by the user [book_tags.csv,books.csv]"
      ],
      "metadata": {
        "id": "tNwiU4qofn33"
      }
    },
    {
      "cell_type": "code",
      "source": [
        "combined_df = pd.merge(df_1, df, left_on='goodreads_book_id', right_on='book_id')\n",
        "most_tagged_book = combined_df.groupby('title')['count'].sum().idxmax()\n",
        "print(\"Book with the most number of counts of tags is:\", most_tagged_book)"
      ],
      "metadata": {
        "colab": {
          "base_uri": "https://localhost:8080/"
        },
        "id": "Ri3OBjp-fpvI",
        "outputId": "64c3f0e4-e333-4b9a-ada1-101799f5343c"
      },
      "execution_count": 29,
      "outputs": [
        {
          "output_type": "stream",
          "name": "stdout",
          "text": [
            "Book with the most number of counts of tags is: Beyond Band of Brothers: The War Memoirs of Major Dick Winters\n"
          ]
        }
      ]
    },
    {
      "cell_type": "markdown",
      "source": [
        "7.Plot a bar chart with top 20 unique tags in descending order of ‘user records’ (the number of users tagged the given tag_id with the goodreads_book_id) [book_tags.csv]"
      ],
      "metadata": {
        "id": "yfoZFDzRf6t9"
      }
    },
    {
      "cell_type": "code",
      "source": [
        "tag_counts = df_1.groupby('tag_id')['goodreads_book_id'].nunique()\n",
        "top_tags = tag_counts.sort_values(ascending=False).head(20)\n",
        "plt.figure(figsize=(12, 6))\n",
        "top_tags.plot(kind='bar', color='skyblue')\n",
        "plt.xlabel('Tag ID')\n",
        "plt.ylabel('Number of User Records')\n",
        "plt.title('Top 20 Tags by User Records')\n",
        "plt.xticks(rotation=45, ha='right')  # Rotate x-axis labels for better visibility\n",
        "plt.show()"
      ],
      "metadata": {
        "colab": {
          "base_uri": "https://localhost:8080/",
          "height": 591
        },
        "id": "Rz46p6c5f8A3",
        "outputId": "2d36e545-780a-4a3d-ee17-fd39eac12be0"
      },
      "execution_count": 23,
      "outputs": [
        {
          "output_type": "display_data",
          "data": {
            "text/plain": [
              "<Figure size 1200x600 with 1 Axes>"
            ],
            "image/png": "[encoded data removed]"
          },
          "metadata": {}
        }
      ]
    }
  ]
}